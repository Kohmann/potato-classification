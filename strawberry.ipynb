{
 "cells": [
  {
   "cell_type": "code",
   "execution_count": 2,
   "metadata": {},
   "outputs": [],
   "source": [
    "import numpy as np\n",
    "import spectral as sp\n",
    "import matplotlib.pyplot as plt\n",
    "import cv2\n",
    "from functions import clip, PCAreduce, plotSpectrum"
   ]
  },
  {
   "cell_type": "code",
   "execution_count": 1,
   "metadata": {},
   "outputs": [
    {
     "ename": "NameError",
     "evalue": "name 'sp' is not defined",
     "output_type": "error",
     "traceback": [
      "\u001b[0;31m---------------------------------------------------------------------------\u001b[0m",
      "\u001b[0;31mNameError\u001b[0m                                 Traceback (most recent call last)",
      "\u001b[0;32m<ipython-input-1-e6f0c364bab0>\u001b[0m in \u001b[0;36m<module>\u001b[0;34m\u001b[0m\n\u001b[0;32m----> 1\u001b[0;31m \u001b[0mimgBruiseCube12h\u001b[0m \u001b[0;34m=\u001b[0m \u001b[0msp\u001b[0m\u001b[0;34m.\u001b[0m\u001b[0mopen_image\u001b[0m\u001b[0;34m(\u001b[0m\u001b[0;34m\"../Strawberry/Normalised/STR_B1_12h_VNIR_1800_SN00841_HSNR2_9998us_2020-08-03T112003_raw_rad_nn.hdr\"\u001b[0m\u001b[0;34m)\u001b[0m\u001b[0;34m\u001b[0m\u001b[0m\n\u001b[0m\u001b[1;32m      2\u001b[0m \u001b[0mimgBruiseCube48h\u001b[0m \u001b[0;34m=\u001b[0m \u001b[0msp\u001b[0m\u001b[0;34m.\u001b[0m\u001b[0mopen_image\u001b[0m\u001b[0;34m(\u001b[0m\u001b[0;34m\"../Strawberry/Normalised/STR_B1_48h_VNIR_1800_SN00841_HSNR2_9998us_2020-08-04T152605_raw_rad_nn.hdr\"\u001b[0m\u001b[0;34m)\u001b[0m\u001b[0;34m\u001b[0m\u001b[0m\n\u001b[1;32m      3\u001b[0m \u001b[0mimgHealthyCube\u001b[0m \u001b[0;34m=\u001b[0m \u001b[0msp\u001b[0m\u001b[0;34m.\u001b[0m\u001b[0mopen_image\u001b[0m\u001b[0;34m(\u001b[0m\u001b[0;34m\"../Strawberry/Normalised/STR_B1_0mn_VNIR_1800_SN00841_HSNR2_11998us_2020-08-02T185621_raw_rad_nn.hdr\"\u001b[0m\u001b[0;34m)\u001b[0m\u001b[0;34m\u001b[0m\u001b[0m\n\u001b[1;32m      4\u001b[0m \u001b[0;34m\u001b[0m\u001b[0m\n\u001b[1;32m      5\u001b[0m \u001b[0mN\u001b[0m\u001b[0;34m,\u001b[0m\u001b[0mM\u001b[0m\u001b[0;34m,\u001b[0m\u001b[0mbands\u001b[0m \u001b[0;34m=\u001b[0m \u001b[0mimgBruiseCube12h\u001b[0m\u001b[0;34m.\u001b[0m\u001b[0mshape\u001b[0m\u001b[0;34m\u001b[0m\u001b[0m\n",
      "\u001b[0;31mNameError\u001b[0m: name 'sp' is not defined"
     ]
    }
   ],
   "source": [
    "imgBruiseCube12h = sp.open_image(\"../Strawberry/Normalised/STR_B1_12h_VNIR_1800_SN00841_HSNR2_9998us_2020-08-03T112003_raw_rad_nn.hdr\")\n",
    "imgBruiseCube48h = sp.open_image(\"../Strawberry/Normalised/STR_B1_48h_VNIR_1800_SN00841_HSNR2_9998us_2020-08-04T152605_raw_rad_nn.hdr\")\n",
    "imgHealthyCube = sp.open_image(\"../Strawberry/Normalised/STR_B1_0mn_VNIR_1800_SN00841_HSNR2_11998us_2020-08-02T185621_raw_rad_nn.hdr\")\n",
    "\n",
    "N,M,bands = imgBruiseCube12h.shape\n",
    "\n",
    "\n",
    "imgBruiseCube12h = imgBruiseCube12h.read_subregion([4600, imgBruiseCube12h.shape[0]], [0, imgBruiseCube12h.shape[1]])\n",
    "imgBruiseCube48h  = imgBruiseCube48h.read_subregion([4520, imgBruiseCube48h.shape[0]], [0, imgBruiseCube48h.shape[1]])\n",
    "imgHealthyCube  = imgHealthyCube.read_subregion([4800, 5624], [0, imgHealthyCube.shape[1]])\n",
    "\n",
    "\n",
    "clip(imgBruiseCube12h, 0, 1)  # clipps the values in imgCube between 0,1.\n",
    "clip(imgBruiseCube48h, 0, 1)  # clipps the values in imgCube between 0,1.\n",
    "clip(imgHealthyCube, 0, 1)\n",
    "print(\"done\")"
   ]
  },
  {
   "cell_type": "code",
   "execution_count": null,
   "metadata": {},
   "outputs": [],
   "source": [
    "imgCube8bit0h = (imgHealthyCube*255).astype('uint8')\n",
    "equ = cv2.equalizeHist(imgCube8bit0h[:,:,185])\n",
    "res0h = np.hstack((imgCube8bit0h[:,:,185],equ)) #stacking images side-by-side\n",
    "sp.imshow(res0h, figsize=(15,10))\n",
    "\n",
    "imgCube8bit12h = (imgBruiseCube12h*255).astype('uint8')\n",
    "equ = cv2.equalizeHist(imgCube8bit12h[:,:,185])\n",
    "res12h = np.hstack((imgCube8bit12h[:,:,185],equ)) #stacking images side-by-side\n",
    "sp.imshow(res12h, figsize=(15,10))\n",
    "\n",
    "imgCube8bit48h = (imgBruiseCube48h*255).astype('uint8')\n",
    "equ = cv2.equalizeHist(imgCube8bit48h[:,:,185])\n",
    "res48h = np.hstack((imgCube8bit48h[:,:,185],equ)) #stacking images side-by-side\n",
    "sp.imshow(res48h, figsize=(15,10))"
   ]
  },
  {
   "cell_type": "code",
   "execution_count": null,
   "metadata": {},
   "outputs": [],
   "source": [
    "img12_PCA, eigenvalues1 = PCAreduce(imgBruiseCube12h, frac=0.99)\n",
    "img48_PCA, eigenvalues2 = PCAreduce(imgBruiseCube48h, frac=0.99)\n",
    "img1_PCA,  eigenvalues3 = PCAreduce(imgHealthyCube,   frac=0.99)"
   ]
  },
  {
   "cell_type": "code",
   "execution_count": null,
   "metadata": {},
   "outputs": [],
   "source": [
    "img12_PCA_scaled = (img12_PCA - np.amin(img12_PCA)) / (np.amax(img12_PCA) - np.amin(img12_PCA))\n",
    "img48_PCA_scaled  = (img48_PCA - np.amin(img48_PCA)) / (np.amax(img48_PCA) - np.amin(img48_PCA))\n",
    "img1_PCA_scaled  = (img1_PCA - np.amin(img1_PCA)) / (np.amax(img1_PCA) - np.amin(img1_PCA))\n",
    "\n",
    "img12_PCA_scaled[:,:,0] = img12_PCA_scaled[:,:,0]*(-1)\n",
    "img48_PCA_scaled[:,:,0] = img48_PCA_scaled[:,:,0]*(-1)\n",
    "\n",
    "sp.imshow(img48_PCA_scaled[:,:,0], figsize=(10,10))\n"
   ]
  },
  {
   "cell_type": "code",
   "execution_count": null,
   "metadata": {},
   "outputs": [],
   "source": [
    "\n",
    "k = 7\n",
    "\n",
    "class_map12, centers = sp.kmeans(img12_PCA_scaled,max_iterations=60, nclusters=k)\n",
    "\n",
    "view = sp.imshow(img12_PCA_scaled[:,:,0], classes=class_map12, title=\"img12_PCA_scaled\")\n",
    "view.set_display_mode('overlay')\n",
    "view.class_alpha = 1 #set transparency\n",
    "view.show_data\n",
    "\n",
    "clusters = []\n",
    "class_map48, centers = sp.kmeans(img48_PCA_scaled, max_iterations=60, nclusters=k, frames=clusters)\n",
    "\n",
    "view = sp.imshow(img48_PCA_scaled[:,:,0], classes=class_map48, title=\"img48_PCA_scaled\")\n",
    "view.set_display_mode('overlay')\n",
    "view.class_alpha = 1 #set transparency\n",
    "view.show_data\n",
    "\n",
    "\n",
    "#sp.imshow(imgCube, [20,80,150], stretch=((0.02, 0.98), (0.02, 0.98), (0.02, 0.98))) rgb"
   ]
  },
  {
   "cell_type": "code",
   "execution_count": null,
   "metadata": {},
   "outputs": [],
   "source": [
    "temp = np.array(clusters)[0]\n",
    "sp.imshow(temp)\n",
    "temp[temp != 1] = 0\n",
    "sp.imshow(temp)\n"
   ]
  },
  {
   "cell_type": "code",
   "execution_count": null,
   "metadata": {},
   "outputs": [],
   "source": [
    "#print(np.array(centers).shape)\n",
    "#for c in centers:\n",
    "#    plt.plot(c)\n",
    "#plt.figure()\n",
    "class_map, centers = sp.kmeans(img1_PCA_scaled, nclusters=k)\n",
    "view = sp.imshow(img1_PCA_scaled[:,:,0],stretch=0.01, classes=class_map)\n",
    "view.set_display_mode('overlay')\n",
    "view.class_alpha = 1 #set transparency\n",
    "view.show_data"
   ]
  },
  {
   "cell_type": "code",
   "execution_count": null,
   "metadata": {},
   "outputs": [],
   "source": [
    "spectra = np.zeros([1,bands])\n",
    "spectra[0] = np.array(imgBruiseCube48h[450,1400])\n",
    "#spectra[1] = np.array(imgHealthyCube[410,210])\n",
    "\n",
    "angles = sp.spectral_angles(imgBruiseCube48h, spectra)[:,:,0]\n",
    "print(angles.shape)\n",
    "\n",
    "plt.imshow(angles, cmap=\"gray\")\n",
    "plt.figure()\n",
    "angles[angles > np.pi / 70] = 0\n",
    "\n",
    "plt.imshow(angles, cmap=\"gray\")\n",
    "plt.figure()"
   ]
  },
  {
   "cell_type": "code",
   "execution_count": 3,
   "metadata": {},
   "outputs": [],
   "source": [
    "files = [ \"../Strawberry/Normalised/STR_B1_before-hit_VNIR_1800_SN00841_HSNR2_11998us_2020-08-02T184054_raw_rad_nn.hdr\",\n",
    "         \"../Strawberry/Normalised/STR_B1_0mn_VNIR_1800_SN00841_HSNR2_11998us_2020-08-02T185621_raw_rad_nn.hdr\",\n",
    "         \"../Strawberry/Normalised/STR_B1_30min_VNIR_1800_SN00841_HSNR2_11998us_2020-08-02T193019_raw_rad_nn.hdr\",\n",
    "         \"../Strawberry/Normalised/STR_B1_1hr_VNIR_1800_SN00841_HSNR2_11998us_2020-08-02T202126_raw_rad_nn.hdr\",\n",
    "         \"../Strawberry/Normalised/STR_B1_3hr_VNIR_1800_SN00841_HSNR2_11998us_2020-08-02T214153_raw_rad_nn.hdr\",\n",
    "         \"../Strawberry/Normalised/STR_B1_12h_VNIR_1800_SN00841_HSNR2_9998us_2020-08-03T112003_raw_rad_nn.hdr\",\n",
    "         \"../Strawberry/Normalised/STR_B1_24h_VNIR_1800_SN00841_HSNR2_9998us_2020-08-03T181621_raw_rad_nn.hdr\",\n",
    "         \"../Strawberry/Normalised/STR_B1_48h_VNIR_1800_SN00841_HSNR2_9998us_2020-08-04T152605_raw_rad_nn.hdr\"\n",
    "        ]\n",
    "def meanSpectrum(cube):\n",
    "    bands = cube.shape[2]\n",
    "    avgSpec = np.zeros(bands)    \n",
    "    for i in range(bands):\n",
    "        avgSpec[i] = cube[:,:,i].mean()\n",
    "    return avgSpec\n",
    "\n",
    "\n",
    "\n",
    "\n",
    "kSize = 9 # size of mean filter\n",
    "names = np.array([\"before-hit\", \"0m\",\"30m\",\"1h\" ,\"3h\",\"12h\", \"24h\", \"48h\"])\n",
    "\n",
    "# number 1,2,3.. represent each a single unique strawberry ID, see strawberry_labeled.png for starwberry IDs\n",
    "\n",
    "healthySamples = {1: [[5383,1293], [5236,1270], [5202,1350], [5339,1283], [5317,1248],[5043,1168],[4955,1293], [4917,1251]],\n",
    "                  2: [[5497,516], [5290,536], [5268,611], [5397, 542], [5375,513], [5117,423], [5042,517], [5008,473]]\n",
    "                 }\n",
    "\n",
    "bruisedSamples = {1: [[5392,1460],[5314,1462],[5288,1543],[5428,1474],[5409,1441],[5134,1353],[5036,1474],[4988,1440]],\n",
    "                  2: [[5478,306], [5268,327], [5238,385], [5374,333], [5348,303], [5090, 216], [5010,309], [4976,273]],\n",
    "                  4: [[4310,360], [4085,350], [4069,418] ,[4182,371], [4147,341], [3874,260], [3776,357], [3730,326]],\n",
    "                  7: [[3069,1424], [2794,1452], [2763,1503], [2900,1469], [2877,1447], [2621,1310], [2540,1419], [2504,1366]],\n",
    "                  9: [[1827,1299], [1585,1374], [1556,1423], [1694,1422], [1667,1401], [1411,1265], [1321,1375], [1277,1300]]\n",
    "                 }\n"
   ]
  },
  {
   "cell_type": "code",
   "execution_count": null,
   "metadata": {},
   "outputs": [],
   "source": [
    "library_nonbruise = []\n",
    "for i in range(len(names)):\n",
    "    subregion = sp.open_image(files[i]).read_subregion((pixel_h2[i][0] - kSize//2, pixel_h2[i][0] + kSize//2 +1), \n",
    "                                                      (pixel_h2[i][1] - kSize//2, pixel_h2[i][1] + kSize//2 +1))\n",
    "    library_nonbruise.append([meanSpectrum(subregion), names[i]]) \n",
    "\n",
    "for spec in library_nonbruise:\n",
    "    plotSpectrum(spec[0], xaxis=\"wavelength\", linelabel=spec[1])\n",
    "    \n",
    "\n",
    "plt.title('Mean healthy area over time')\n",
    "#plt.savefig(\"spectralLibary_healthy_region.png\")\n",
    "plt.figure()\n"
   ]
  },
  {
   "cell_type": "code",
   "execution_count": null,
   "metadata": {},
   "outputs": [],
   "source": [
    "\n",
    "for sid in bruisedSamples.keys():\n",
    "    library_bruise = []\n",
    "    #sid = 2 # strawberry ID\n",
    "\n",
    "    for i in range(len(names)):\n",
    "        subregion = sp.open_image(files[i]).read_subregion((bruisedSamples[sid][i][0] - kSize//2, bruisedSamples[sid][i][0] + kSize//2 +1), \n",
    "                                                           (bruisedSamples[sid][i][1] - kSize//2, bruisedSamples[sid][i][1] + kSize//2 +1))\n",
    "        library_bruise.append([meanSpectrum(subregion), names[i]]) \n",
    "\n",
    "\n",
    "    for spec in library_bruise:\n",
    "        plotSpectrum(spec[0], xaxis=\"band\", linelabel=spec[1])\n",
    "    plt.title('Mean bruised area on strawberry %d' %sid)\n",
    "    #plt.savefig(\"spectralLibary_bruise_region.png\")\n",
    "    plt.figure()\n"
   ]
  },
  {
   "cell_type": "code",
   "execution_count": 39,
   "metadata": {},
   "outputs": [
    {
     "data": {
      "text/plain": [
       "<Figure size 432x288 with 0 Axes>"
      ]
     },
     "execution_count": 39,
     "metadata": {},
     "output_type": "execute_result"
    },
    {
     "data": {
      "image/png": "[encoded data removed]",
      "text/plain": [
       "<Figure size 432x288 with 1 Axes>"
      ]
     },
     "metadata": {
      "needs_background": "light"
     },
     "output_type": "display_data"
    },
    {
     "data": {
      "text/plain": [
       "<Figure size 432x288 with 0 Axes>"
      ]
     },
     "metadata": {},
     "output_type": "display_data"
    }
   ],
   "source": [
    "spectrums = []\n",
    "library_bruise = []\n",
    "#sid = 1 # strawberry ID\n",
    "\n",
    "i = 3 # 1,2,3,4 corrosponding to each of the time samples, Asending timer order\n",
    "for sid in bruisedSamples.keys():\n",
    "    \n",
    "    subregion = sp.open_image(files[i]).read_subregion((bruisedSamples[sid][i][0] - kSize//2, bruisedSamples[sid][i][0] + kSize//2 +1), \n",
    "                                                       (bruisedSamples[sid][i][1] - kSize//2, bruisedSamples[sid][i][1] + kSize//2 +1))\n",
    "    library_bruise.append(meanSpectrum(subregion)) \n",
    "    \n",
    "\n",
    "\n",
    "for spec in library_bruise:\n",
    "    plotSpectrum(spec, xaxis=\"band\")\n",
    "plt.title('Spectra of %s on select strawberries' % names[i] )\n",
    "#plt.savefig(\"spectralLibary_bruise_region.png\")\n",
    "#plt.figure()\n",
    "\n",
    "\n",
    "plotSpectrum(np.array(library_bruise).mean(axis=0), xaxis=\"band\",linelabel = \"mean\" )\n",
    "#plt.savefig(\"spectralLibary_bruise_region.png\")\n",
    "plt.figure()\n",
    "\n"
   ]
  },
  {
   "cell_type": "code",
   "execution_count": null,
   "metadata": {},
   "outputs": [],
   "source": []
  }
 ],
 "metadata": {
  "kernelspec": {
   "display_name": "Python 3",
   "language": "python",
   "name": "python3"
  },
  "language_info": {
   "codemirror_mode": {
    "name": "ipython",
    "version": 3
   },
   "file_extension": ".py",
   "mimetype": "text/x-python",
   "name": "python",
   "nbconvert_exporter": "python",
   "pygments_lexer": "ipython3",
   "version": "3.7.0"
  }
 },
 "nbformat": 4,
 "nbformat_minor": 4
}
