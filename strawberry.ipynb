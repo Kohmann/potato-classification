{
 "cells": [
  {
   "cell_type": "code",
   "execution_count": null,
   "metadata": {},
   "outputs": [],
   "source": [
    "import numpy as np\n",
    "import spectral as sp\n",
    "import matplotlib.pyplot as plt\n",
    "import cv2\n",
    "from functions import clip, PCAreduce, plotSpectrum"
   ]
  },
  {
   "cell_type": "code",
   "execution_count": null,
   "metadata": {},
   "outputs": [],
   "source": [
    "imgBruiseCube12h = sp.open_image(\"../Strawberry/Normalised/STR_B1_12h_VNIR_1800_SN00841_HSNR2_9998us_2020-08-03T112003_raw_rad_nn.hdr\")\n",
    "imgBruiseCube48h = sp.open_image(\"../Strawberry/Normalised/STR_B1_48h_VNIR_1800_SN00841_HSNR2_9998us_2020-08-04T152605_raw_rad_nn.hdr\")\n",
    "imgHealthyCube = sp.open_image(\"../Strawberry/Normalised/STR_B1_0mn_VNIR_1800_SN00841_HSNR2_11998us_2020-08-02T185621_raw_rad_nn.hdr\")\n",
    "\n",
    "N,M,bands = imgBruiseCube12h.shape\n",
    "\n",
    "\n",
    "imgBruiseCube12h = imgBruiseCube12h.read_subregion([4600, imgBruiseCube12h.shape[0]], [0, imgBruiseCube12h.shape[1]])\n",
    "imgBruiseCube48h  = imgBruiseCube48h.read_subregion([4520, imgBruiseCube48h.shape[0]], [0, imgBruiseCube48h.shape[1]])\n",
    "imgHealthyCube  = imgHealthyCube.read_subregion([4800, 5624], [0, imgHealthyCube.shape[1]])\n",
    "\n",
    "\n",
    "clip(imgBruiseCube12h, 0, 1)  # clipps the values in imgCube between 0,1.\n",
    "clip(imgBruiseCube48h, 0, 1)  # clipps the values in imgCube between 0,1.\n",
    "clip(imgHealthyCube, 0, 1)\n",
    "print(\"done\")"
   ]
  },
  {
   "cell_type": "code",
   "execution_count": null,
   "metadata": {},
   "outputs": [],
   "source": [
    "\n",
    "#imgCube8bit = (imgCube*255).astype('uint8')\n",
    "#equ = cv2.equalizeHist(imgCube8bit[:,:,120])\n",
    "#res = np.hstack((imgCube8bit[:,:,120],equ)) #stacking images side-by-side\n",
    "#sp.imshow(res, figsize=(15,10))\n",
    "img12_PCA, eigenvalues1 = PCAreduce(imgBruiseCube12h, frac=0.99)\n",
    "img48_PCA, eigenvalues2 = PCAreduce(imgBruiseCube48h, frac=0.99)\n",
    "img1_PCA,  eigenvalues3 = PCAreduce(imgHealthyCube,   frac=0.99)\n"
   ]
  },
  {
   "cell_type": "code",
   "execution_count": null,
   "metadata": {},
   "outputs": [],
   "source": [
    "img12_PCA_scaled = (img12_PCA - np.amin(img12_PCA)) / (np.amax(img12_PCA) - np.amin(img12_PCA))\n",
    "img48_PCA_scaled  = (img48_PCA - np.amin(img48_PCA)) / (np.amax(img48_PCA) - np.amin(img48_PCA))\n",
    "img1_PCA_scaled  = (img1_PCA - np.amin(img1_PCA)) / (np.amax(img1_PCA) - np.amin(img1_PCA))\n",
    "\n",
    "img12_PCA_scaled[:,:,0] = img12_PCA_scaled[:,:,0]*(-1)\n",
    "img48_PCA_scaled[:,:,0] = img48_PCA_scaled[:,:,0]*(-1)\n",
    "\n",
    "sp.imshow(img48_PCA_scaled[:,:,0], figsize=(10,10))\n"
   ]
  },
  {
   "cell_type": "code",
   "execution_count": null,
   "metadata": {},
   "outputs": [],
   "source": [
    "\n",
    "\n",
    "k = 7\n",
    "\n",
    "class_map12, centers = sp.kmeans(img12_PCA_scaled,max_iterations=60, nclusters=k)\n",
    "\n",
    "view = sp.imshow(img12_PCA_scaled[:,:,0], classes=class_map12, title=\"img12_PCA_scaled\")\n",
    "view.set_display_mode('overlay')\n",
    "view.class_alpha = 1 #set transparency\n",
    "view.show_data\n",
    "\n",
    "clusters = []\n",
    "class_map48, centers = sp.kmeans(img48_PCA_scaled, max_iterations=60, nclusters=k, frames=clusters)\n",
    "\n",
    "view = sp.imshow(img48_PCA_scaled[:,:,0], classes=class_map48, title=\"img48_PCA_scaled\")\n",
    "view.set_display_mode('overlay')\n",
    "view.class_alpha = 1 #set transparency\n",
    "view.show_data\n",
    "\n",
    "\n",
    "#sp.imshow(imgCube, [20,80,150], stretch=((0.02, 0.98), (0.02, 0.98), (0.02, 0.98))) rgb"
   ]
  },
  {
   "cell_type": "code",
   "execution_count": null,
   "metadata": {},
   "outputs": [],
   "source": [
    "temp = np.array(clusters)[0]\n",
    "sp.imshow(temp)\n",
    "temp[temp != 1] = 0\n",
    "sp.imshow(temp)\n"
   ]
  },
  {
   "cell_type": "code",
   "execution_count": null,
   "metadata": {},
   "outputs": [],
   "source": [
    "#print(np.array(centers).shape)\n",
    "#for c in centers:\n",
    "#    plt.plot(c)\n",
    "#plt.figure()\n",
    "class_map, centers = sp.kmeans(img1_PCA_scaled, nclusters=k)\n",
    "view = sp.imshow(img1_PCA_scaled[:,:,0],stretch=0.01, classes=class_map)\n",
    "view.set_display_mode('overlay')\n",
    "view.class_alpha = 1 #set transparency\n",
    "view.show_data"
   ]
  },
  {
   "cell_type": "code",
   "execution_count": null,
   "metadata": {},
   "outputs": [],
   "source": []
  },
  {
   "cell_type": "code",
   "execution_count": null,
   "metadata": {},
   "outputs": [],
   "source": [
    "spectra = np.zeros([1,bands])\n",
    "spectra[0] = np.array(imgBruiseCube48h[450,1400])\n",
    "#spectra[1] = np.array(imgHealthyCube[410,210])\n",
    "\n",
    "angles = sp.spectral_angles(imgBruiseCube48h, spectra)[:,:,0]\n",
    "print(angles.shape)\n",
    "\n",
    "plt.imshow(angles, cmap=\"gray\")\n",
    "plt.figure()\n",
    "angles[angles > np.pi / 70] = 0\n",
    "\n",
    "plt.imshow(angles, cmap=\"gray\")\n",
    "plt.figure()"
   ]
  },
  {
   "cell_type": "code",
   "execution_count": null,
   "metadata": {},
   "outputs": [],
   "source": [
    "files = [ \"../Strawberry/Normalised/STR_B1_before-hit_VNIR_1800_SN00841_HSNR2_11998us_2020-08-02T184054_raw_rad_nn.hdr\",\n",
    "         \"../Strawberry/Normalised/STR_B1_0mn_VNIR_1800_SN00841_HSNR2_11998us_2020-08-02T185621_raw_rad_nn.hdr\",\n",
    "         \"../Strawberry/Normalised/STR_B1_30min_VNIR_1800_SN00841_HSNR2_11998us_2020-08-02T193019_raw_rad_nn.hdr\",\n",
    "         \"../Strawberry/Normalised/STR_B1_1hr_VNIR_1800_SN00841_HSNR2_11998us_2020-08-02T202126_raw_rad_nn.hdr\",\n",
    "         \"../Strawberry/Normalised/STR_B1_3hr_VNIR_1800_SN00841_HSNR2_11998us_2020-08-02T214153_raw_rad_nn.hdr\",\n",
    "         \"../Strawberry/Normalised/STR_B1_12h_VNIR_1800_SN00841_HSNR2_9998us_2020-08-03T112003_raw_rad_nn.hdr\",\n",
    "         \"../Strawberry/Normalised/STR_B1_24h_VNIR_1800_SN00841_HSNR2_9998us_2020-08-03T181621_raw_rad_nn.hdr\",\n",
    "         \"../Strawberry/Normalised/STR_B1_48h_VNIR_1800_SN00841_HSNR2_9998us_2020-08-04T152605_raw_rad_nn.hdr\"\n",
    "        ]"
   ]
  },
  {
   "cell_type": "code",
   "execution_count": null,
   "metadata": {},
   "outputs": [],
   "source": [
    "library_nonbruise = []\n",
    "library_nonbruise.append([sp.open_image(files[0]).read_pixel(5383,1293), \"before-hit\" ])\n",
    "library_nonbruise.append([sp.open_image(files[1]).read_pixel(5236,1270), \"0m\"])\n",
    "library_nonbruise.append([sp.open_image(files[2]).read_pixel(5202,1350), \"30m\"])\n",
    "library_nonbruise.append([sp.open_image(files[3]).read_pixel(5339,1283), \"1h\" ])\n",
    "library_nonbruise.append([sp.open_image(files[4]).read_pixel(5317,1248), \"3h\" ])\n",
    "library_nonbruise.append([sp.open_image(files[5]).read_pixel(5043,1168), \"12h\"])\n",
    "library_nonbruise.append([sp.open_image(files[6]).read_pixel(4955,1293), \"24h\"])\n",
    "library_nonbruise.append([sp.open_image(files[7]).read_pixel(4917,1251), \"48h\"])\n",
    "\n",
    "\n",
    "for spec in library_nonbruise:\n",
    "    plotSpectrum(spec[0], xaxis=\"wavelength\", linelabel=spec[1])\n",
    "    \n",
    "\n",
    "plt.title('Healthy pixel over time')\n",
    "#plt.savefig(\"spectralLibary_healthy_region.png\")\n",
    "plt.figure()\n",
    "\n"
   ]
  },
  {
   "cell_type": "code",
   "execution_count": null,
   "metadata": {},
   "outputs": [],
   "source": [
    "library_bruise = []\n",
    "library_bruise.append([sp.open_image(files[0]).read_pixel(5392,1460), \"before-hit\" ]) #\n",
    "library_bruise.append([sp.open_image(files[1]).read_pixel(5314,1462), \"0m\"]) #\n",
    "library_bruise.append([sp.open_image(files[2]).read_pixel(5288,1543), \"30m\"]) #\n",
    "library_bruise.append([sp.open_image(files[3]).read_pixel(5428,1474), \"1h\" ]) #\n",
    "library_bruise.append([sp.open_image(files[4]).read_pixel(5409,1441), \"3h\" ]) #\n",
    "library_bruise.append([sp.open_image(files[5]).read_pixel(5134,1353), \"12h\"]) #\n",
    "library_bruise.append([sp.open_image(files[6]).read_pixel(5036,1474), \"24h\"]) #\n",
    "library_bruise.append([sp.open_image(files[7]).read_pixel(4988,1440), \"48h\"]) #\n",
    "\n",
    "\n",
    "for spec in library_bruise:\n",
    "    plotSpectrum(spec[0], xaxis=\"wavelength\", linelabel=spec[1])\n",
    "    \n",
    "\n",
    "plt.title('Bruised pixel over time')\n",
    "#plt.savefig(\"spectralLibary_bruise_region.png\")\n",
    "\n",
    "plt.figure()"
   ]
  },
  {
   "cell_type": "code",
   "execution_count": null,
   "metadata": {},
   "outputs": [],
   "source": []
  }
 ],
 "metadata": {
  "kernelspec": {
   "display_name": "Python 3",
   "language": "python",
   "name": "python3"
  },
  "language_info": {
   "codemirror_mode": {
    "name": "ipython",
    "version": 3
   },
   "file_extension": ".py",
   "mimetype": "text/x-python",
   "name": "python",
   "nbconvert_exporter": "python",
   "pygments_lexer": "ipython3",
   "version": "3.7.0"
  }
 },
 "nbformat": 4,
 "nbformat_minor": 4
}
