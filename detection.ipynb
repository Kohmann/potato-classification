{
 "cells": [
  {
   "cell_type": "markdown",
   "metadata": {},
   "source": [
    "## File for locate bruise\n",
    "##### Tresholds, og alt det der"
   ]
  },
  {
   "cell_type": "code",
   "execution_count": null,
   "metadata": {},
   "outputs": [],
   "source": [
    "import numpy as np\n",
    "import spectral as sp\n",
    "import matplotlib.pyplot as plt\n",
    "import cv2\n",
    "from sklearn import svm\n",
    "\n",
    "from functions import clip, PCAreduce, plotSpectrum, meanSpectrum, getImage, getRegion"
   ]
  },
  {
   "cell_type": "code",
   "execution_count": null,
   "metadata": {},
   "outputs": [],
   "source": [
    "names = np.array([\"before-hit\", \"0m\",\"30m\",\"1h\" ,\"3h\",\"12h\", \"24h\", \"48h\"])\n",
    "\n",
    "strawberryCube = sp.open_image(getImage(\"12h\"))\n",
    "strawberryCubeBefore = sp.open_image(getImage(\"before-hit\"))\n",
    "N,M,Bands = strawberryCube.shape\n",
    "strawberry = strawberryCube.read_subregion((4700,N), (0,666)) # strawberry ID 1 (750,M)\n",
    "                                                            # strawberry ID 2 (0,666)\n",
    "\n",
    "sp.imshow(strawberry[:,:,180])\n",
    "\n",
    "X_train1 = getRegion(strawberryCube, 232, 5090, 19) # \n",
    "n,m,Bands = X_train1.shape\n",
    "X_train1 = X_train1.reshape((n*m,Bands)) # just bruised data\n",
    "y_train1 = np.ones(n*m)  # labels, 1 = bruised\n",
    "\n",
    "X_train2 = getRegion(strawberryCube, 252, 4905, 19) # \n",
    "n,m,Bands = X_train2.shape\n",
    "X_train2 = X_train2.reshape((n*m,Bands)) # just healthy data \n",
    "y_train2 = np.zeros(n*m)  # labels, 0 = healthy\n",
    "\n",
    "\n",
    "X_train = np.zeros( (2 * y_train2.shape[0], Bands) )\n",
    "\n",
    "X_train[:y_train2.shape[0]] = X_train1\n",
    "X_train[y_train2.shape[0]:] = X_train2\n",
    "y_train = np.zeros((y_train2.shape[0]*2))\n",
    "\n",
    "y_train[:y_train.shape[0]//2] = y_train1\n",
    "y_train[y_train.shape[0]//2:] = y_train2\n",
    "\n",
    "\n",
    "\n",
    "svm = svm.SVC() \n",
    "svm.fit(X_train, y_train)\n",
    "\n",
    "\n"
   ]
  },
  {
   "cell_type": "code",
   "execution_count": null,
   "metadata": {},
   "outputs": [],
   "source": [
    "test = strawberry[:,:,180]\n",
    "test8bit = (test*255).astype('uint8')\n",
    "#th3 = cv2.adaptiveThreshold(test8bit,255,cv2.ADAPTIVE_THRESH_GAUSSIAN_C, cv2.THRESH_BINARY_INV,21,1)\n",
    "tresh = cv2.threshold(test8bit,10,255, cv2.THRESH_BINARY)[1]\n",
    "kernel = np.ones((7,7),np.uint8)\n",
    "closing  = cv2.morphologyEx(tresh, cv2.MORPH_CLOSE, kernel, iterations=1)\n",
    "erode = cv2.erode(closing,kernel, iterations =10)\n",
    "\n",
    "#X_test = getRegion(strawberryCube, 320, 5040, 320)\n",
    "X_test = strawberry\n",
    "\n",
    "n,m,Bands = X_test.shape\n",
    "X_test = X_test.reshape((n*m,Bands)) # just healthy data \n",
    "\n",
    "\n",
    "\n",
    "pred = svm.predict(X_test)\n",
    "predimg = pred.reshape((n,m))\n",
    "\n",
    "sp.imshow(strawberry[:,:,180])\n",
    "sp.imshow(predimg*erode)\n",
    "\n",
    "#sp.imshow(X_train)\n"
   ]
  },
  {
   "cell_type": "code",
   "execution_count": null,
   "metadata": {},
   "outputs": [],
   "source": []
  },
  {
   "cell_type": "code",
   "execution_count": null,
   "metadata": {},
   "outputs": [],
   "source": [
    "names = np.array([\"before-hit\", \"0m\",\"30m\",\"1h\" ,\"3h\",\"12h\", \"24h\", \"48h\"])\n",
    "\n",
    "strawberryCube = sp.open_image(getImage(\"12h\"))\n",
    "N,M,Bands = strawberryCube.shape\n",
    "strawberry = strawberryCube.read_subregion((4700,N), (0,666)) # strawberry ID 1 (750,M)\n",
    "                                                              # strawberry ID 2 (0,666)\n",
    "\n",
    "sp.imshow(strawberry[:,:,180],figsize=(5,10))\n",
    "\n",
    "\n",
    "\n",
    "test = strawberry[:,:,180]\n",
    "test8bit = (test*255).astype('uint8')\n",
    "#th3 = cv2.adaptiveThreshold(test8bit,255,cv2.ADAPTIVE_THRESH_GAUSSIAN_C, cv2.THRESH_BINARY_INV,21,1)\n",
    "tresh = cv2.threshold(test8bit,10,255, cv2.THRESH_BINARY)[1]\n",
    "kernel = np.ones((7,7),np.uint8)\n",
    "closing  = cv2.morphologyEx(tresh, cv2.MORPH_CLOSE, kernel, iterations=1)\n",
    "erode = cv2.erode(closing,kernel, iterations =10)\n",
    "\n",
    "#mask = erode\n",
    "kernel = np.ones((3,3),np.uint8)\n",
    "\n",
    "imggrad =  (cv2.dilate(test,kernel) - cv2.erode(test,kernel)) #* mask\n",
    "\n",
    "imggrad[imggrad < imggrad[300,210]] = 0\n",
    "imggrad[imggrad >= imggrad[300,210]] = 1\n",
    "eroded = cv2.dilate(cv2.erode(imggrad,kernel, iterations =5),kernel,iterations =2)\n",
    "\n",
    "sp.imshow(eroded,figsize=(5,10))\n",
    "\n",
    "imgNoSeeds = test*(1-eroded)\n",
    "\n",
    "sp.imshow(imgNoSeeds,figsize=(5,10))\n",
    "\n",
    "\n"
   ]
  },
  {
   "cell_type": "code",
   "execution_count": null,
   "metadata": {},
   "outputs": [],
   "source": []
  }
 ],
 "metadata": {
  "kernelspec": {
   "display_name": "Python 3",
   "language": "python",
   "name": "python3"
  },
  "language_info": {
   "codemirror_mode": {
    "name": "ipython",
    "version": 3
   },
   "file_extension": ".py",
   "mimetype": "text/x-python",
   "name": "python",
   "nbconvert_exporter": "python",
   "pygments_lexer": "ipython3",
   "version": "3.7.0"
  }
 },
 "nbformat": 4,
 "nbformat_minor": 4
}
