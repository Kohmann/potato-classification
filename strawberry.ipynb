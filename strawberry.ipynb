{
 "cells": [
  {
   "cell_type": "code",
   "execution_count": null,
   "metadata": {},
   "outputs": [],
   "source": [
    "import numpy as np\n",
    "import spectral as sp\n",
    "import matplotlib.pyplot as plt\n",
    "import cv2\n",
    "from functions import clip, PCAreduce, plotSpectrum"
   ]
  },
  {
   "cell_type": "code",
   "execution_count": null,
   "metadata": {},
   "outputs": [],
   "source": [
    "imgBruiseCube12h = sp.open_image(\"../Strawberry/Normalised/STR_B1_12h_VNIR_1800_SN00841_HSNR2_9998us_2020-08-03T112003_raw_rad_nn.hdr\")\n",
    "imgBruiseCube48h = sp.open_image(\"../Strawberry/Normalised/STR_B1_48h_VNIR_1800_SN00841_HSNR2_9998us_2020-08-04T152605_raw_rad_nn.hdr\")\n",
    "imgHealthyCube = sp.open_image(\"../Strawberry/Normalised/STR_B1_0mn_VNIR_1800_SN00841_HSNR2_11998us_2020-08-02T185621_raw_rad_nn.hdr\")\n",
    "\n",
    "N,M,bands = imgBruiseCube12h.shape\n",
    "\n",
    "\n",
    "imgBruiseCube12h = imgBruiseCube12h.read_subregion([4600, imgBruiseCube12h.shape[0]], [0, imgBruiseCube12h.shape[1]])\n",
    "imgBruiseCube48h  = imgBruiseCube48h.read_subregion([4520, imgBruiseCube48h.shape[0]], [0, imgBruiseCube48h.shape[1]])\n",
    "imgHealthyCube  = imgHealthyCube.read_subregion([4800, 5624], [0, imgHealthyCube.shape[1]])\n",
    "\n",
    "\n",
    "clip(imgBruiseCube12h, 0, 1)  # clipps the values in imgCube between 0,1.\n",
    "clip(imgBruiseCube48h, 0, 1)  # clipps the values in imgCube between 0,1.\n",
    "clip(imgHealthyCube, 0, 1)\n",
    "print(\"done\")"
   ]
  },
  {
   "cell_type": "code",
   "execution_count": null,
   "metadata": {},
   "outputs": [],
   "source": [
    "imgCube8bit0h = (imgHealthyCube*255).astype('uint8')\n",
    "equ = cv2.equalizeHist(imgCube8bit0h[:,:,185])\n",
    "res0h = np.hstack((imgCube8bit0h[:,:,185],equ)) #stacking images side-by-side\n",
    "sp.imshow(res0h, figsize=(15,10))\n",
    "\n",
    "imgCube8bit12h = (imgBruiseCube12h*255).astype('uint8')\n",
    "equ = cv2.equalizeHist(imgCube8bit12h[:,:,185])\n",
    "res12h = np.hstack((imgCube8bit12h[:,:,185],equ)) #stacking images side-by-side\n",
    "sp.imshow(res12h, figsize=(15,10))\n",
    "\n",
    "imgCube8bit48h = (imgBruiseCube48h*255).astype('uint8')\n",
    "equ = cv2.equalizeHist(imgCube8bit48h[:,:,185])\n",
    "res48h = np.hstack((imgCube8bit48h[:,:,185],equ)) #stacking images side-by-side\n",
    "sp.imshow(res48h, figsize=(15,10))"
   ]
  },
  {
   "cell_type": "code",
   "execution_count": null,
   "metadata": {},
   "outputs": [],
   "source": [
    "img12_PCA, eigenvalues1 = PCAreduce(imgBruiseCube12h, frac=0.99)\n",
    "img48_PCA, eigenvalues2 = PCAreduce(imgBruiseCube48h, frac=0.99)\n",
    "img1_PCA,  eigenvalues3 = PCAreduce(imgHealthyCube,   frac=0.99)"
   ]
  },
  {
   "cell_type": "code",
   "execution_count": null,
   "metadata": {},
   "outputs": [],
   "source": [
    "img12_PCA_scaled = (img12_PCA - np.amin(img12_PCA)) / (np.amax(img12_PCA) - np.amin(img12_PCA))\n",
    "img48_PCA_scaled  = (img48_PCA - np.amin(img48_PCA)) / (np.amax(img48_PCA) - np.amin(img48_PCA))\n",
    "img1_PCA_scaled  = (img1_PCA - np.amin(img1_PCA)) / (np.amax(img1_PCA) - np.amin(img1_PCA))\n",
    "\n",
    "img12_PCA_scaled[:,:,0] = img12_PCA_scaled[:,:,0]*(-1)\n",
    "img48_PCA_scaled[:,:,0] = img48_PCA_scaled[:,:,0]*(-1)\n",
    "\n",
    "sp.imshow(img48_PCA_scaled[:,:,0], figsize=(10,10))\n"
   ]
  },
  {
   "cell_type": "code",
   "execution_count": null,
   "metadata": {},
   "outputs": [],
   "source": [
    "\n",
    "\n",
    "k = 7\n",
    "\n",
    "class_map12, centers = sp.kmeans(img12_PCA_scaled,max_iterations=60, nclusters=k)\n",
    "\n",
    "view = sp.imshow(img12_PCA_scaled[:,:,0], classes=class_map12, title=\"img12_PCA_scaled\")\n",
    "view.set_display_mode('overlay')\n",
    "view.class_alpha = 1 #set transparency\n",
    "view.show_data\n",
    "\n",
    "clusters = []\n",
    "class_map48, centers = sp.kmeans(img48_PCA_scaled, max_iterations=60, nclusters=k, frames=clusters)\n",
    "\n",
    "view = sp.imshow(img48_PCA_scaled[:,:,0], classes=class_map48, title=\"img48_PCA_scaled\")\n",
    "view.set_display_mode('overlay')\n",
    "view.class_alpha = 1 #set transparency\n",
    "view.show_data\n",
    "\n",
    "\n",
    "#sp.imshow(imgCube, [20,80,150], stretch=((0.02, 0.98), (0.02, 0.98), (0.02, 0.98))) rgb"
   ]
  },
  {
   "cell_type": "code",
   "execution_count": null,
   "metadata": {},
   "outputs": [],
   "source": [
    "temp = np.array(clusters)[0]\n",
    "sp.imshow(temp)\n",
    "temp[temp != 1] = 0\n",
    "sp.imshow(temp)\n"
   ]
  },
  {
   "cell_type": "code",
   "execution_count": null,
   "metadata": {},
   "outputs": [],
   "source": [
    "#print(np.array(centers).shape)\n",
    "#for c in centers:\n",
    "#    plt.plot(c)\n",
    "#plt.figure()\n",
    "class_map, centers = sp.kmeans(img1_PCA_scaled, nclusters=k)\n",
    "view = sp.imshow(img1_PCA_scaled[:,:,0],stretch=0.01, classes=class_map)\n",
    "view.set_display_mode('overlay')\n",
    "view.class_alpha = 1 #set transparency\n",
    "view.show_data"
   ]
  },
  {
   "cell_type": "code",
   "execution_count": null,
   "metadata": {},
   "outputs": [],
   "source": [
    "spectra = np.zeros([1,bands])\n",
    "spectra[0] = np.array(imgBruiseCube48h[450,1400])\n",
    "#spectra[1] = np.array(imgHealthyCube[410,210])\n",
    "\n",
    "angles = sp.spectral_angles(imgBruiseCube48h, spectra)[:,:,0]\n",
    "print(angles.shape)\n",
    "\n",
    "plt.imshow(angles, cmap=\"gray\")\n",
    "plt.figure()\n",
    "angles[angles > np.pi / 70] = 0\n",
    "\n",
    "plt.imshow(angles, cmap=\"gray\")\n",
    "plt.figure()"
   ]
  },
  {
   "cell_type": "code",
   "execution_count": null,
   "metadata": {},
   "outputs": [],
   "source": [
    "files = [ \"../Strawberry/Normalised/STR_B1_before-hit_VNIR_1800_SN00841_HSNR2_11998us_2020-08-02T184054_raw_rad_nn.hdr\",\n",
    "         \"../Strawberry/Normalised/STR_B1_0mn_VNIR_1800_SN00841_HSNR2_11998us_2020-08-02T185621_raw_rad_nn.hdr\",\n",
    "         \"../Strawberry/Normalised/STR_B1_30min_VNIR_1800_SN00841_HSNR2_11998us_2020-08-02T193019_raw_rad_nn.hdr\",\n",
    "         \"../Strawberry/Normalised/STR_B1_1hr_VNIR_1800_SN00841_HSNR2_11998us_2020-08-02T202126_raw_rad_nn.hdr\",\n",
    "         \"../Strawberry/Normalised/STR_B1_3hr_VNIR_1800_SN00841_HSNR2_11998us_2020-08-02T214153_raw_rad_nn.hdr\",\n",
    "         \"../Strawberry/Normalised/STR_B1_12h_VNIR_1800_SN00841_HSNR2_9998us_2020-08-03T112003_raw_rad_nn.hdr\",\n",
    "         \"../Strawberry/Normalised/STR_B1_24h_VNIR_1800_SN00841_HSNR2_9998us_2020-08-03T181621_raw_rad_nn.hdr\",\n",
    "         \"../Strawberry/Normalised/STR_B1_48h_VNIR_1800_SN00841_HSNR2_9998us_2020-08-04T152605_raw_rad_nn.hdr\"\n",
    "        ]\n",
    "def meanSpectrum(cube, ksize = 3):\n",
    "    bands = cube.shape[2]\n",
    "    avgSpec = np.zeros(bands)    \n",
    "    for i in range(bands):\n",
    "        avgSpec[i] = cube[:,:,i].mean()\n",
    "    return avgSpec\n",
    "\n",
    "\n",
    "names = np.array([\"before-hit\", \"0m\",\"30m\",\"1h\" ,\"3h\",\"12h\", \"24h\", \"48h\"])\n",
    "#nonbruised pixels\n",
    "pixel_h = np.array([[5383,1293], [5236,1270], [5202,1350], [5339,1283], [5317,1248],[5043,1168],[4955,1293], [4917,1251]])\n",
    "#bruised pixels\n",
    "pixel_b = np.array([[5392,1460],[5314,1462],[5288,1543],[5428,1474],[5409,1441],[5134,1353],[5036,1474],[4988,1440]]) \n"
   ]
  },
  {
   "cell_type": "code",
   "execution_count": null,
   "metadata": {},
   "outputs": [],
   "source": [
    "library_nonbruise = []\n",
    "\n",
    "kSize = 20\n",
    "for i in range(len(names)):\n",
    "    region = sp.open_image(files[i]).read_subregion((pixel_h[i][0] - kSize//2, pixel_h[i][0] + kSize//2 +1), \n",
    "                                                    (pixel_h[i][1] - kSize//2, pixel_h[i][1] + kSize//2 +1))\n",
    "    library_nonbruise.append([meanSpectrum(region,kSize), names[i]]) \n",
    "\n",
    "for spec in library_nonbruise:\n",
    "    plotSpectrum(spec[0], xaxis=\"wavelength\", linelabel=spec[1])\n",
    "    \n",
    "\n",
    "plt.title('Mean healthy pixel over time')\n",
    "#plt.savefig(\"spectralLibary_healthy_region.png\")\n",
    "plt.figure()\n",
    "\n"
   ]
  },
  {
   "cell_type": "code",
   "execution_count": null,
   "metadata": {},
   "outputs": [],
   "source": [
    "\n",
    "\n",
    "library_bruise = []\n",
    "\n",
    "for i in range(len(names)):\n",
    "    region = sp.open_image(files[i]).read_subregion((pixel_b[i][0] - kSize//2, pixel_b[i][0] + kSize//2 +1), \n",
    "                                                    (pixel_b[i][1] - kSize//2, pixel_b[i][1] + kSize//2 +1))\n",
    "    library_bruise.append([meanSpectrum(region,kSize), names[i]]) \n",
    "\n",
    "\n",
    "for spec in library_bruise:\n",
    "    plotSpectrum(spec[0], xaxis=\"wavelength\", linelabel=spec[1])\n",
    "    \n",
    "\n",
    "plt.title('Mean bruised pixel over time')\n",
    "#plt.savefig(\"spectralLibary_bruise_region.png\")\n",
    "\n",
    "plt.figure()"
   ]
  },
  {
   "cell_type": "code",
   "execution_count": null,
   "metadata": {},
   "outputs": [],
   "source": []
  }
 ],
 "metadata": {
  "kernelspec": {
   "display_name": "Python 3",
   "language": "python",
   "name": "python3"
  },
  "language_info": {
   "codemirror_mode": {
    "name": "ipython",
    "version": 3
   },
   "file_extension": ".py",
   "mimetype": "text/x-python",
   "name": "python",
   "nbconvert_exporter": "python",
   "pygments_lexer": "ipython3",
   "version": "3.7.0"
  }
 },
 "nbformat": 4,
 "nbformat_minor": 4
}
