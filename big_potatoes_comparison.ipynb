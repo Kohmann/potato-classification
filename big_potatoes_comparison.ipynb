{
 "cells": [
  {
   "cell_type": "code",
   "execution_count": null,
   "metadata": {},
   "outputs": [],
   "source": [
    "import numpy as np\n",
    "import spectral as sp\n",
    "import matplotlib.pyplot as plt\n",
    "import cv2\n",
    "\n",
    "imgCubePeeled = sp.open_image(\"../Normalised/potatobigpeeled_b1_lowIG_VNIR_1800_SN00841_HSNR2_6000us_2020-10-09T161707_raw_rad_nn.hdr\")\n",
    "imgCube = sp.open_image(\"../Normalised/potatobig_b1_lowIG_VNIR_1800_SN00841_HSNR2_6000us_2020-10-09T155115_raw_rad_nn.hdr\")\n",
    "\n",
    "N,M,Bands = imgCubePeeled.shape\n",
    "K = 5 #number of potatoes in img\n",
    "\n",
    "margin = 1000\n",
    "marg = 30\n",
    "\n",
    "imgBandPeeled = (imgCubePeeled.read_band(140))[margin:,:]\n",
    "imgBand = imgCube.read_band(140)[margin:,:]\n",
    "\n",
    "imgBandPeeled8bit = (imgBandPeeled*256).astype('uint8')\n",
    "imgBand8bit = (imgBand*256).astype('uint8')\n",
    "                        \n",
    "threshPeeled = cv2.threshold(imgBandPeeled8bit, 30, 255, cv2.THRESH_BINARY)[1] # + cv2.THRESH_OTSU\n",
    "thresh = cv2.threshold(imgBand8bit, 30, 255, cv2.THRESH_BINARY)[1]\n",
    "                        \n",
    "cntPeeled = sorted(cv2.findContours(threshPeeled, cv2.RETR_LIST, cv2.CHAIN_APPROX_SIMPLE)[-2], key=cv2.contourArea)\n",
    "cnt = sorted(cv2.findContours(thresh, cv2.RETR_LIST, cv2.CHAIN_APPROX_SIMPLE)[-2], key=cv2.contourArea)"
   ]
  },
  {
   "cell_type": "code",
   "execution_count": null,
   "metadata": {},
   "outputs": [],
   "source": [
    "for i in range(K):\n",
    "    xp,yp,wp,hp = cv2.boundingRect(cntPeeled[-(i+1)])\n",
    "    x, y, w, h = cv2.boundingRect(cnt[-(i+1)])\n",
    "    \n",
    "    potatoPeeled = (imgCubePeeled.read_subregion([margin-marg+yp,margin+marg+yp+hp],[xp-marg,xp+wp+marg]))\n",
    "    potato = (imgCube.read_subregion([margin-marg+y,margin+marg+y+h],[x-marg,x+w+marg]))\n",
    "    \n",
    "    sp.imshow(potato[:,:,100], figsize=(10,10),cmap=\"gray\")\n",
    "    sp.imshow(potatoPeeled[:,:,100], figsize=(10,10),cmap=\"gray\")\n",
    "    \n",
    "\n",
    "# TO DO\n",
    "# implementere opening / closing for å gjøre blackspots tydeligere (det hun snakket om på møtet)\n",
    "\n",
    "# clippe verdiene på 255, sånn at overexposure ikke blir svart\n",
    "\n",
    "# finne ut hva vi skal finne ut lol\n",
    "# shape?\n",
    "# blackspots?\n",
    "# spekrumforskjeller?\n",
    "# sammenligne små og store poteter?"
   ]
  },
  {
   "cell_type": "code",
   "execution_count": null,
   "metadata": {},
   "outputs": [],
   "source": []
  }
 ],
 "metadata": {
  "kernelspec": {
   "display_name": "Python 3",
   "language": "python",
   "name": "python3"
  },
  "language_info": {
   "codemirror_mode": {
    "name": "ipython",
    "version": 3
   },
   "file_extension": ".py",
   "mimetype": "text/x-python",
   "name": "python",
   "nbconvert_exporter": "python",
   "pygments_lexer": "ipython3",
   "version": "3.7.0"
  }
 },
 "nbformat": 4,
 "nbformat_minor": 4
}
