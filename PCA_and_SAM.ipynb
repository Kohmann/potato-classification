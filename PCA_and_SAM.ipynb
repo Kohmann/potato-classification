{
 "cells": [
  {
   "cell_type": "code",
   "execution_count": null,
   "metadata": {},
   "outputs": [],
   "source": [
    "import numpy as np\n",
    "import spectral as sp\n",
    "import matplotlib.pyplot as plt\n",
    "import cv2\n",
    "from functions import *"
   ]
  },
  {
   "cell_type": "code",
   "execution_count": null,
   "metadata": {},
   "outputs": [],
   "source": [
    "names = np.array([\"before-hit\", \"0m\",\"30m\",\"1h\" ,\"3h\",\"12h\", \"24h\", \"48h\"])\n",
    "\n",
    "trainName = \"3h\"\n",
    "\n",
    "strawberryCube = sp.open_image(getImage(trainName))\n",
    "\n",
    "n, m, bands = strawberryCube.shape\n",
    "        \n",
    "        # 2: 0m: [420,5212,666] 30m: [465 ,5189, 666], 1h: [436,5304,666] , 3h: id2 [376, 5292,666],  \n",
    "        # 1: 3h: [1348, 5380, 430]\n",
    "        \n",
    "strawberryCoords2 = np.array([376, 5292,666])\n",
    "strawberryCoords1 = np.array([1348, 5380, 600])\n",
    "\n",
    "img3h2 = getRegion(strawberryCube, strawberryCoords2[0], strawberryCoords2[1], strawberryCoords2[2])\n",
    "img3h1 = getRegion(strawberryCube, strawberryCoords1[0], strawberryCoords1[1], strawberryCoords1[2])"
   ]
  },
  {
   "cell_type": "code",
   "execution_count": null,
   "metadata": {},
   "outputs": [],
   "source": [
    "# PCA #\n",
    "\n",
    "imgPCA, eigenvalues  = PCAreduce(img3h2[:,:,100:], frac=0.999)\n",
    "\n",
    "#sp.imshow(img3h[:,:,185])\n",
    "\n",
    "for i in range(imgPCA.shape[2]):\n",
    "    sp.imshow(imgPCA[:,:,i], figsize=(5,5))\n"
   ]
  },
  {
   "cell_type": "code",
   "execution_count": null,
   "metadata": {},
   "outputs": [],
   "source": [
    "threshold = 130\n",
    "fig = (6,6)\n",
    "\n",
    "spectra = np.zeros([2,bands])\n",
    "\n",
    "spectra[0] = np.array(strawberryCube.read_pixel(5391, 1425))\n",
    "spectra[1] = np.array(strawberryCube.read_pixel(5343, 322))\n",
    "\n",
    "angles1 = sp.spectral_angles(img3h1, spectra)\n",
    "angles1[angles1 > np.pi / (threshold)] = 0\n",
    "sp.imshow(angles1[:,:,0], figsize=fig)\n",
    "sp.imshow(angles1[:,:,1], figsize=fig)\n",
    "    \n",
    "angles2 = sp.spectral_angles(img3h2, spectra)\n",
    "angles2[angles2 > np.pi / (threshold)] = 0\n",
    "sp.imshow(angles2[:,:,0], figsize=fig)\n",
    "sp.imshow(angles2[:,:,1], figsize=fig)"
   ]
  },
  {
   "cell_type": "code",
   "execution_count": null,
   "metadata": {},
   "outputs": [],
   "source": []
  }
 ],
 "metadata": {
  "kernelspec": {
   "display_name": "Python 3",
   "language": "python",
   "name": "python3"
  },
  "language_info": {
   "codemirror_mode": {
    "name": "ipython",
    "version": 3
   },
   "file_extension": ".py",
   "mimetype": "text/x-python",
   "name": "python",
   "nbconvert_exporter": "python",
   "pygments_lexer": "ipython3",
   "version": "3.7.0"
  }
 },
 "nbformat": 4,
 "nbformat_minor": 4
}
